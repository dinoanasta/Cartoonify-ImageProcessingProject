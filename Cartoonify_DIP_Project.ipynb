{
 "cells": [
  {
   "cell_type": "markdown",
   "id": "therapeutic-latex",
   "metadata": {
    "toc": true
   },
   "source": [
    "<h1>Table of Contents<span class=\"tocSkip\"></span></h1>\n",
    "<div class=\"toc\"><ul class=\"toc-item\"><li><span><a href=\"#Imports\" data-toc-modified-id=\"Imports-1\">Imports</a></span></li><li><span><a href=\"#Artistic-Effect-#1---Cartoonify\" data-toc-modified-id=\"Artistic-Effect-#1---Cartoonify-2\">Artistic Effect #1 - Cartoonify</a></span></li><li><span><a href=\"#Artistic-Effect-#2---Pencil-Sketch\" data-toc-modified-id=\"Artistic-Effect-#2---Pencil-Sketch-3\">Artistic Effect #2 - Pencil Sketch</a></span></li></ul></div>"
   ]
  },
  {
   "cell_type": "markdown",
   "id": "intermediate-memphis",
   "metadata": {},
   "source": [
    "## Imports"
   ]
  },
  {
   "cell_type": "code",
   "execution_count": 14,
   "id": "extra-victim",
   "metadata": {},
   "outputs": [],
   "source": [
    "import cv2\n",
    "import scipy\n",
    "from scipy import stats\n",
    "import numpy as np\n",
    "from collections import defaultdict\n",
    "import os"
   ]
  },
  {
   "cell_type": "code",
   "execution_count": 51,
   "id": "vietnamese-present",
   "metadata": {},
   "outputs": [],
   "source": [
    "def ApplyEffect(effect):\n",
    "    \n",
    "    #Store name of effect\n",
    "    effect_name = effect.__name__\n",
    "    \n",
    "    #Set input and output folder\n",
    "    input_folder_path = \"Images/Input/\"\n",
    "    output_folder_path = \"Images/Output/\"\n",
    "    \n",
    "\n",
    "    # iterate through the names of contents of the folder\n",
    "    for image_path in os.listdir(input_folder_path):\n",
    "\n",
    "        # create the full input path and read the file\n",
    "        input_path = os.path.join(input_folder_path, image_path)\n",
    "\n",
    "        output = effect(cv2.imread(input_path))\n",
    "\n",
    "        # create full output path, 'example.jpg' \n",
    "        # becomes 'rotate_example.jpg', save the file to disk\n",
    "        fullpath = os.path.join(output_folder_path, effect_name + \"_\" +image_path)\n",
    "        cv2.imwrite(fullpath, output)\n",
    "\n",
    "    print(\"Effect applied and images saved\")"
   ]
  },
  {
   "cell_type": "markdown",
   "id": "dental-digit",
   "metadata": {},
   "source": [
    "## Artistic Effect #1 - Cartoonify"
   ]
  },
  {
   "cell_type": "code",
   "execution_count": 48,
   "id": "legitimate-voltage",
   "metadata": {},
   "outputs": [],
   "source": [
    "def update_c(C,hist):\n",
    "    while True:\n",
    "        groups=defaultdict(list)\n",
    "\n",
    "        for i in range(len(hist)):\n",
    "            if(hist[i] == 0):\n",
    "                continue\n",
    "            d=np.abs(C-i)\n",
    "            index=np.argmin(d)\n",
    "            groups[index].append(i)\n",
    "\n",
    "        new_C=np.array(C)\n",
    "        for i,indice in groups.items():\n",
    "            if(np.sum(hist[indice])==0):\n",
    "                continue\n",
    "            new_C[i]=int(np.sum(indice*hist[indice])/np.sum(hist[indice]))\n",
    "\n",
    "        if(np.sum(new_C-C)==0):\n",
    "            break\n",
    "        C=new_C\n",
    "\n",
    "    return C,groups\n",
    "\n",
    "# Calculates K Means clustering\n",
    "def K_histogram(hist):\n",
    "\n",
    "    alpha=0.001\n",
    "    N=80\n",
    "    C=np.array([128])\n",
    "\n",
    "    while True:\n",
    "        C,groups=update_c(C,hist)\n",
    "\n",
    "        new_C=set()\n",
    "        for i,indice in groups.items():\n",
    "            if(len(indice)<N):\n",
    "                new_C.add(C[i])\n",
    "                continue\n",
    "\n",
    "            z, pval=stats.normaltest(hist[indice])\n",
    "            if(pval<alpha):\n",
    "                left=0 if i==0 else C[i-1]\n",
    "                right=len(hist)-1 if i ==len(C)-1 else C[i+1]\n",
    "                delta=right-left\n",
    "                if(delta >=3):\n",
    "                    c1=(C[i]+left)/2\n",
    "                    c2=(C[i]+right)/2\n",
    "                    new_C.add(c1)\n",
    "                    new_C.add(c2)\n",
    "                else:\n",
    "                    new_C.add(C[i])\n",
    "            else:\n",
    "                new_C.add(C[i])\n",
    "        if(len(new_C)==len(C)):\n",
    "            break\n",
    "        else:\n",
    "            C=np.array(sorted(new_C))\n",
    "    return C\n",
    "\n",
    "def Cartoonify(img):\n",
    "\n",
    "    kernel=np.ones((2,2), np.uint8)\n",
    "    output=np.array(img)\n",
    "    x,y,c=output.shape\n",
    "    for i in range(c):\n",
    "        output[:,:,i]=cv2.bilateralFilter(output[:,:,i],5,150,150)\n",
    "\n",
    "    edge=cv2.Canny(output, 100, 200)\n",
    "    output=cv2.cvtColor(output,cv2.COLOR_RGB2HSV)\n",
    "\n",
    "    hists = []\n",
    "\n",
    "    hist,_=np.histogram(output[:,:,0],bins =np.arange(180+1))\n",
    "    hists.append(hist)\n",
    "    hist,_=np.histogram(output[:,:,1],bins =np.arange(256+1))\n",
    "    hists.append(hist)\n",
    "    hist,_=np.histogram(output[:,:,2],bins =np.arange(256+1))\n",
    "    hists.append(hist)\n",
    "\n",
    "\n",
    "    C=[]\n",
    "    for h in hists:\n",
    "        C.append(K_histogram(h))\n",
    "    #print(\"centroids: {0}\".format(C))\n",
    "\n",
    "    output=output.reshape((-1,c))\n",
    "    for i in range(c):\n",
    "        channel=output[:,i]\n",
    "        index=np.argmin(np.abs(channel[:, np.newaxis] - C[i]), axis=1)\n",
    "        output[:,i]=C[i][index]\n",
    "    output=output.reshape((x,y,c))\n",
    "    output=cv2.cvtColor(output, cv2.COLOR_HSV2RGB)\n",
    "\n",
    "    contours,_=cv2.findContours(edge,cv2.RETR_EXTERNAL, cv2.CHAIN_APPROX_NONE)\n",
    "    cv2.drawContours(output,contours,-1,0,thickness=1)\n",
    "    for i in range(3):\n",
    "        output[:,:,i]=cv2.erode(output[:,:,i], kernel, iterations=1)\n",
    "    Laplacian = cv2.Laplacian(output,cv2.CV_8U, ksize=11)\n",
    "    output=output-Laplacian\n",
    "    return output"
   ]
  },
  {
   "cell_type": "code",
   "execution_count": 52,
   "id": "lightweight-international",
   "metadata": {},
   "outputs": [
    {
     "name": "stdout",
     "output_type": "stream",
     "text": [
      "Effect applied and images saved\n"
     ]
    }
   ],
   "source": [
    "ApplyEffect(Cartoonify)"
   ]
  },
  {
   "cell_type": "markdown",
   "id": "noted-lunch",
   "metadata": {},
   "source": [
    "## Artistic Effect #2 - Pencil Sketch"
   ]
  },
  {
   "cell_type": "code",
   "execution_count": 55,
   "id": "peaceful-charity",
   "metadata": {},
   "outputs": [],
   "source": [
    "def Pencil_Sketch(img):\n",
    "    img_gray = cv2.cvtColor(img, cv2.COLOR_BGR2RGBA)\n",
    "    img_invert = cv2.bitwise_not(img_gray)\n",
    "    img_smoothing = cv2.GaussianBlur(img_invert, (21, 21), sigmaX=0, sigmaY=0)\n",
    "    \n",
    "    def dodgeV2(image, mask):\n",
    "        return cv2.divide(image, 255 - mask, scale=256)\n",
    "    dodged_img = dodgeV2(img_gray, img_smoothing)\n",
    "    \n",
    "    def burnV2(image, mask):\n",
    "        return 255 - cv2.divide(255-image, 255-mask, scale=256)\n",
    "    \n",
    "    \n",
    "    output_image = burnV2(dodged_img, img_smoothing)\n",
    "    \n",
    "    return output_image"
   ]
  },
  {
   "cell_type": "code",
   "execution_count": 1,
   "id": "nasty-westminster",
   "metadata": {},
   "outputs": [
    {
     "ename": "NameError",
     "evalue": "name 'ApplyEffect' is not defined",
     "output_type": "error",
     "traceback": [
      "\u001b[0;31m---------------------------------------------------------------------------\u001b[0m",
      "\u001b[0;31mNameError\u001b[0m                                 Traceback (most recent call last)",
      "\u001b[0;32m<ipython-input-1-1b0b8d1ff8a8>\u001b[0m in \u001b[0;36m<module>\u001b[0;34m\u001b[0m\n\u001b[0;32m----> 1\u001b[0;31m \u001b[0mApplyEffect\u001b[0m\u001b[0;34m(\u001b[0m\u001b[0mPencil_Sketch\u001b[0m\u001b[0;34m)\u001b[0m\u001b[0;34m\u001b[0m\u001b[0;34m\u001b[0m\u001b[0m\n\u001b[0m",
      "\u001b[0;31mNameError\u001b[0m: name 'ApplyEffect' is not defined"
     ]
    }
   ],
   "source": [
    "ApplyEffect(Pencil_Sketch)"
   ]
  },
  {
   "cell_type": "code",
   "execution_count": 2,
   "id": "positive-transport",
   "metadata": {},
   "outputs": [],
   "source": [
    "## Effect Ideas \n",
    "Emboss\n",
    "Oil Painting\n",
    "Glitch \n",
    "Holga\n",
    "Pixelize\n",
    "Negative"
   ]
  },
  {
   "cell_type": "code",
   "execution_count": null,
   "id": "bright-premises",
   "metadata": {},
   "outputs": [],
   "source": []
  },
  {
   "cell_type": "code",
   "execution_count": null,
   "id": "royal-burlington",
   "metadata": {},
   "outputs": [],
   "source": []
  },
  {
   "cell_type": "code",
   "execution_count": null,
   "id": "quantitative-accommodation",
   "metadata": {},
   "outputs": [],
   "source": []
  }
 ],
 "metadata": {
  "hide_input": false,
  "kernelspec": {
   "display_name": "Python 3",
   "language": "python",
   "name": "python3"
  },
  "language_info": {
   "codemirror_mode": {
    "name": "ipython",
    "version": 3
   },
   "file_extension": ".py",
   "mimetype": "text/x-python",
   "name": "python",
   "nbconvert_exporter": "python",
   "pygments_lexer": "ipython3",
   "version": "3.8.6"
  },
  "toc": {
   "base_numbering": 1,
   "nav_menu": {},
   "number_sections": false,
   "sideBar": true,
   "skip_h1_title": true,
   "title_cell": "Table of Contents",
   "title_sidebar": "Contents",
   "toc_cell": true,
   "toc_position": {},
   "toc_section_display": true,
   "toc_window_display": false
  }
 },
 "nbformat": 4,
 "nbformat_minor": 5
}
